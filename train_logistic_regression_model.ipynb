{
 "cells": [
  {
   "cell_type": "markdown",
   "id": "6f84f418",
   "metadata": {},
   "source": [
    "# Binary Classification Model for Sentiment Analysis\n",
    "\n",
    "## Overview:\n",
    "\n",
    "The goal of this project is to develop a binary classification model that detects suicidal intent / thoughts through text.\n",
    "\n",
    "## Table of Contents:\n",
    "\n",
    "1. Text **Cleaning, Vectorization and Splitting** for NLP\n",
    "2. **Training** the Model (Logistic Regression)\n",
    "3. **Evaluating** the Model's Performance\n",
    "    - Confusion Matrix\n",
    "    - Precision, Recall, and F1 Score\n"
   ]
  },
  {
   "cell_type": "markdown",
   "id": "6e2b60bd",
   "metadata": {},
   "source": [
    "## ***1. Text Cleaning, Vectorization and Splitting for NLP***"
   ]
  },
  {
   "cell_type": "code",
   "execution_count": 1,
   "id": "114ba8f3",
   "metadata": {},
   "outputs": [
    {
     "data": {
      "text/html": [
       "<div>\n",
       "<style scoped>\n",
       "    .dataframe tbody tr th:only-of-type {\n",
       "        vertical-align: middle;\n",
       "    }\n",
       "\n",
       "    .dataframe tbody tr th {\n",
       "        vertical-align: top;\n",
       "    }\n",
       "\n",
       "    .dataframe thead tr th {\n",
       "        text-align: left;\n",
       "    }\n",
       "\n",
       "    .dataframe thead tr:last-of-type th {\n",
       "        text-align: right;\n",
       "    }\n",
       "</style>\n",
       "<table border=\"1\" class=\"dataframe\">\n",
       "  <thead>\n",
       "    <tr>\n",
       "      <th></th>\n",
       "      <th colspan=\"8\" halign=\"left\">Unnamed: 0</th>\n",
       "    </tr>\n",
       "    <tr>\n",
       "      <th></th>\n",
       "      <th>count</th>\n",
       "      <th>mean</th>\n",
       "      <th>std</th>\n",
       "      <th>min</th>\n",
       "      <th>25%</th>\n",
       "      <th>50%</th>\n",
       "      <th>75%</th>\n",
       "      <th>max</th>\n",
       "    </tr>\n",
       "    <tr>\n",
       "      <th>class</th>\n",
       "      <th></th>\n",
       "      <th></th>\n",
       "      <th></th>\n",
       "      <th></th>\n",
       "      <th></th>\n",
       "      <th></th>\n",
       "      <th></th>\n",
       "      <th></th>\n",
       "    </tr>\n",
       "  </thead>\n",
       "  <tbody>\n",
       "    <tr>\n",
       "      <th>0</th>\n",
       "      <td>116037.0</td>\n",
       "      <td>174078.570852</td>\n",
       "      <td>100600.329485</td>\n",
       "      <td>3.0</td>\n",
       "      <td>86843.0</td>\n",
       "      <td>174534.0</td>\n",
       "      <td>261124.0</td>\n",
       "      <td>348110.0</td>\n",
       "    </tr>\n",
       "    <tr>\n",
       "      <th>1</th>\n",
       "      <td>116037.0</td>\n",
       "      <td>174227.156183</td>\n",
       "      <td>100400.800343</td>\n",
       "      <td>2.0</td>\n",
       "      <td>87240.0</td>\n",
       "      <td>174196.0</td>\n",
       "      <td>261448.0</td>\n",
       "      <td>348108.0</td>\n",
       "    </tr>\n",
       "  </tbody>\n",
       "</table>\n",
       "</div>"
      ],
      "text/plain": [
       "      Unnamed: 0                                                        \\\n",
       "           count           mean            std  min      25%       50%   \n",
       "class                                                                    \n",
       "0       116037.0  174078.570852  100600.329485  3.0  86843.0  174534.0   \n",
       "1       116037.0  174227.156183  100400.800343  2.0  87240.0  174196.0   \n",
       "\n",
       "                           \n",
       "            75%       max  \n",
       "class                      \n",
       "0      261124.0  348110.0  \n",
       "1      261448.0  348108.0  "
      ]
     },
     "execution_count": 1,
     "metadata": {},
     "output_type": "execute_result"
    }
   ],
   "source": [
    "import pandas as pd\n",
    "    \n",
    "# Reading CSV data to pandas dataframe\n",
    "df = pd.read_csv('Suicide_Detection.csv', encoding=\"utf-8\")\n",
    "\n",
    "# Replacing all occurences of 'suicide' with 1 and 'non-suicide' with 0 in the 'class' column of the dataframe\n",
    "df['class'] = df['class'].replace({'suicide': 1, 'non-suicide': 0})\n",
    "\n",
    "# Dropping duplicate entries in the dataframe\n",
    "df = df.drop_duplicates()\n",
    "\n",
    "# Display head of dataframe to check\n",
    "df.head()\n",
    "\n",
    "# Making sure training data is balanced\n",
    "df.groupby('class').describe()"
   ]
  },
  {
   "cell_type": "code",
   "execution_count": 2,
   "id": "70f790db",
   "metadata": {},
   "outputs": [],
   "source": [
    "from sklearn.feature_extraction.text import CountVectorizer\n",
    " \n",
    "# Vectorizing the text data such that 1, 2 and 3 word combinations will be listed\n",
    "# Words that do not appear in at least 30 distinct documents will not be included in the vocabulary\n",
    "\n",
    "vectorizer = CountVectorizer(ngram_range=(1, 3), stop_words='english', min_df=30)\n",
    "x = vectorizer.fit_transform(df['text'])\n",
    "y = df['class']"
   ]
  },
  {
   "cell_type": "code",
   "execution_count": 3,
   "id": "00e0cb3b",
   "metadata": {},
   "outputs": [],
   "source": [
    "from sklearn.model_selection import train_test_split\n",
    "\n",
    "# Reserve 75% for training and 25% for testing\n",
    "x_train, x_test, y_train, y_test = train_test_split(x, y, test_size = 0.25, random_state = 0)"
   ]
  },
  {
   "cell_type": "markdown",
   "id": "2d4bc99a",
   "metadata": {},
   "source": [
    "## ***2. Training the Model***"
   ]
  },
  {
   "cell_type": "code",
   "execution_count": 4,
   "id": "a8d915d8",
   "metadata": {},
   "outputs": [
    {
     "data": {
      "text/html": [
       "<style>#sk-container-id-1 {color: black;}#sk-container-id-1 pre{padding: 0;}#sk-container-id-1 div.sk-toggleable {background-color: white;}#sk-container-id-1 label.sk-toggleable__label {cursor: pointer;display: block;width: 100%;margin-bottom: 0;padding: 0.3em;box-sizing: border-box;text-align: center;}#sk-container-id-1 label.sk-toggleable__label-arrow:before {content: \"▸\";float: left;margin-right: 0.25em;color: #696969;}#sk-container-id-1 label.sk-toggleable__label-arrow:hover:before {color: black;}#sk-container-id-1 div.sk-estimator:hover label.sk-toggleable__label-arrow:before {color: black;}#sk-container-id-1 div.sk-toggleable__content {max-height: 0;max-width: 0;overflow: hidden;text-align: left;background-color: #f0f8ff;}#sk-container-id-1 div.sk-toggleable__content pre {margin: 0.2em;color: black;border-radius: 0.25em;background-color: #f0f8ff;}#sk-container-id-1 input.sk-toggleable__control:checked~div.sk-toggleable__content {max-height: 200px;max-width: 100%;overflow: auto;}#sk-container-id-1 input.sk-toggleable__control:checked~label.sk-toggleable__label-arrow:before {content: \"▾\";}#sk-container-id-1 div.sk-estimator input.sk-toggleable__control:checked~label.sk-toggleable__label {background-color: #d4ebff;}#sk-container-id-1 div.sk-label input.sk-toggleable__control:checked~label.sk-toggleable__label {background-color: #d4ebff;}#sk-container-id-1 input.sk-hidden--visually {border: 0;clip: rect(1px 1px 1px 1px);clip: rect(1px, 1px, 1px, 1px);height: 1px;margin: -1px;overflow: hidden;padding: 0;position: absolute;width: 1px;}#sk-container-id-1 div.sk-estimator {font-family: monospace;background-color: #f0f8ff;border: 1px dotted black;border-radius: 0.25em;box-sizing: border-box;margin-bottom: 0.5em;}#sk-container-id-1 div.sk-estimator:hover {background-color: #d4ebff;}#sk-container-id-1 div.sk-parallel-item::after {content: \"\";width: 100%;border-bottom: 1px solid gray;flex-grow: 1;}#sk-container-id-1 div.sk-label:hover label.sk-toggleable__label {background-color: #d4ebff;}#sk-container-id-1 div.sk-serial::before {content: \"\";position: absolute;border-left: 1px solid gray;box-sizing: border-box;top: 0;bottom: 0;left: 50%;z-index: 0;}#sk-container-id-1 div.sk-serial {display: flex;flex-direction: column;align-items: center;background-color: white;padding-right: 0.2em;padding-left: 0.2em;position: relative;}#sk-container-id-1 div.sk-item {position: relative;z-index: 1;}#sk-container-id-1 div.sk-parallel {display: flex;align-items: stretch;justify-content: center;background-color: white;position: relative;}#sk-container-id-1 div.sk-item::before, #sk-container-id-1 div.sk-parallel-item::before {content: \"\";position: absolute;border-left: 1px solid gray;box-sizing: border-box;top: 0;bottom: 0;left: 50%;z-index: -1;}#sk-container-id-1 div.sk-parallel-item {display: flex;flex-direction: column;z-index: 1;position: relative;background-color: white;}#sk-container-id-1 div.sk-parallel-item:first-child::after {align-self: flex-end;width: 50%;}#sk-container-id-1 div.sk-parallel-item:last-child::after {align-self: flex-start;width: 50%;}#sk-container-id-1 div.sk-parallel-item:only-child::after {width: 0;}#sk-container-id-1 div.sk-dashed-wrapped {border: 1px dashed gray;margin: 0 0.4em 0.5em 0.4em;box-sizing: border-box;padding-bottom: 0.4em;background-color: white;}#sk-container-id-1 div.sk-label label {font-family: monospace;font-weight: bold;display: inline-block;line-height: 1.2em;}#sk-container-id-1 div.sk-label-container {text-align: center;}#sk-container-id-1 div.sk-container {/* jupyter's `normalize.less` sets `[hidden] { display: none; }` but bootstrap.min.css set `[hidden] { display: none !important; }` so we also need the `!important` here to be able to override the default hidden behavior on the sphinx rendered scikit-learn.org. See: https://github.com/scikit-learn/scikit-learn/issues/21755 */display: inline-block !important;position: relative;}#sk-container-id-1 div.sk-text-repr-fallback {display: none;}</style><div id=\"sk-container-id-1\" class=\"sk-top-container\"><div class=\"sk-text-repr-fallback\"><pre>LogisticRegression(max_iter=1000, random_state=0)</pre><b>In a Jupyter environment, please rerun this cell to show the HTML representation or trust the notebook. <br />On GitHub, the HTML representation is unable to render, please try loading this page with nbviewer.org.</b></div><div class=\"sk-container\" hidden><div class=\"sk-item\"><div class=\"sk-estimator sk-toggleable\"><input class=\"sk-toggleable__control sk-hidden--visually\" id=\"sk-estimator-id-1\" type=\"checkbox\" checked><label for=\"sk-estimator-id-1\" class=\"sk-toggleable__label sk-toggleable__label-arrow\">LogisticRegression</label><div class=\"sk-toggleable__content\"><pre>LogisticRegression(max_iter=1000, random_state=0)</pre></div></div></div></div></div>"
      ],
      "text/plain": [
       "LogisticRegression(max_iter=1000, random_state=0)"
      ]
     },
     "execution_count": 4,
     "metadata": {},
     "output_type": "execute_result"
    }
   ],
   "source": [
    "from sklearn.linear_model import LogisticRegression\n",
    " \n",
    "# Using logistic regression to train the model\n",
    "model = LogisticRegression(max_iter=1000, random_state=0)\n",
    "model.fit(x_train, y_train)"
   ]
  },
  {
   "cell_type": "code",
   "execution_count": 5,
   "id": "8c06b05d",
   "metadata": {},
   "outputs": [
    {
     "data": {
      "text/plain": [
       "['logistic_regression_model.joblib']"
      ]
     },
     "execution_count": 5,
     "metadata": {},
     "output_type": "execute_result"
    }
   ],
   "source": [
    "from joblib import dump\n",
    "\n",
    "# Save the model\n",
    "dump(model, 'logistic_regression_model.joblib')"
   ]
  },
  {
   "cell_type": "markdown",
   "id": "37408242",
   "metadata": {},
   "source": [
    "## ***3. Evaluating the Model's Performance***"
   ]
  },
  {
   "cell_type": "markdown",
   "id": "a2139164",
   "metadata": {},
   "source": [
    "### Displaying Confusion Matrices and Basic Accuracy"
   ]
  },
  {
   "cell_type": "code",
   "execution_count": 11,
   "id": "4623e0a7",
   "metadata": {},
   "outputs": [],
   "source": [
    "import joblib\n",
    "\n",
    "# Importing the model\n",
    "model = joblib.load('logistic_regression_model.joblib')"
   ]
  },
  {
   "cell_type": "code",
   "execution_count": 12,
   "id": "a8dccf49",
   "metadata": {},
   "outputs": [
    {
     "name": "stdout",
     "output_type": "stream",
     "text": [
      "Confusion Count Matrix:\n",
      "                 Predicted Negative  Predicted Positive\n",
      "Actual Negative               27505                1521\n",
      "Actual Positive                2437               26556\n",
      "\n",
      "Confusion Rate Matrix:\n",
      "                 Predicted Negative  Predicted Positive\n",
      "Actual Negative           47.406884            4.200348\n",
      "Actual Positive            2.621555           45.771213\n",
      "\n",
      "Accuracy:  93.17809683034868 %\n"
     ]
    }
   ],
   "source": [
    "from sklearn.metrics import confusion_matrix\n",
    "\n",
    "# Creating the confusion count matrix\n",
    "confusion = confusion_matrix(y_test, model.predict(x_test))\n",
    "\n",
    "confusion_count_df = pd.DataFrame(\n",
    "    confusion,\n",
    "    columns=['Predicted Negative', 'Predicted Positive'],\n",
    "    index=['Actual Negative', 'Actual Positive']\n",
    ")\n",
    "\n",
    "# Calculating the number of true negatives, true positives, false positives and false negatives after the tests\n",
    "TN_count = confusion_count_df.loc['Actual Negative', 'Predicted Negative']\n",
    "TP_count = confusion_count_df.loc['Actual Positive', 'Predicted Positive']\n",
    "FP_count = confusion_count_df.loc['Actual Negative', 'Predicted Positive']\n",
    "FN_count = confusion_count_df.loc['Actual Positive', 'Predicted Negative']\n",
    "TOTAL_count = confusion_count_df.values.sum()\n",
    "\n",
    "# Calculating the rate of true negatives, true positives, false positives, and false negatives after the tests\n",
    "TN_rate = (TN_count/TOTAL_count)\n",
    "TP_rate = (TP_count/TOTAL_count)\n",
    "FP_rate = (FP_count/TOTAL_count)\n",
    "FN_rate = (FN_count/TOTAL_count)\n",
    "\n",
    "# Constructing the confusion rate matrix\n",
    "confusion_rate_df = pd.DataFrame({\n",
    "    'Predicted Negative': [TN_rate*100, FP_rate*100],\n",
    "    'Predicted Positive': [FN_rate*100, TP_rate*100]\n",
    "}, index=['Actual Negative', 'Actual Positive'])\n",
    "\n",
    "# Displaying confusion count\n",
    "print(\"Confusion Count Matrix:\")\n",
    "print(confusion_count_df)\n",
    "\n",
    "# Displaying confusion rate\n",
    "print(\"\\nConfusion Rate Matrix:\")\n",
    "print(confusion_rate_df)\n",
    "\n",
    "# Displaying the Accuracy\n",
    "print(\"\\nAccuracy: \", ((TN_count+TP_count)/(TOTAL_count))*100, \"%\")\n"
   ]
  },
  {
   "cell_type": "markdown",
   "id": "a21ff2e5",
   "metadata": {},
   "source": [
    "### Precision, Recall, and F1 Score"
   ]
  },
  {
   "cell_type": "code",
   "execution_count": 13,
   "id": "f2efc435",
   "metadata": {},
   "outputs": [
    {
     "name": "stdout",
     "output_type": "stream",
     "text": [
      "Precision:  94.5827545677957 %\n",
      "Recall:  91.5945228158521 %\n",
      "F1 Score:  93.06465743823374 %\n"
     ]
    }
   ],
   "source": [
    "# Calculating Precision, Recall, and F1 Score\n",
    "PRECISION = TP_count/(TP_count + FP_count)\n",
    "RECALL = TP_count/(TP_count + FN_count)\n",
    "F1_SCORE = 2 * (PRECISION * RECALL) / (PRECISION + RECALL)\n",
    "\n",
    "# Displaying Precision, Recall, and F1 Score\n",
    "print(\"Precision: \", PRECISION*100, \"%\")\n",
    "print(\"Recall: \", RECALL*100, \"%\")\n",
    "print(\"F1 Score: \", F1_SCORE*100, \"%\")"
   ]
  },
  {
   "cell_type": "code",
   "execution_count": null,
   "id": "e8a41d44",
   "metadata": {},
   "outputs": [],
   "source": []
  }
 ],
 "metadata": {
  "kernelspec": {
   "display_name": "Python 3 (ipykernel)",
   "language": "python",
   "name": "python3"
  },
  "language_info": {
   "codemirror_mode": {
    "name": "ipython",
    "version": 3
   },
   "file_extension": ".py",
   "mimetype": "text/x-python",
   "name": "python",
   "nbconvert_exporter": "python",
   "pygments_lexer": "ipython3",
   "version": "3.11.5"
  }
 },
 "nbformat": 4,
 "nbformat_minor": 5
}
